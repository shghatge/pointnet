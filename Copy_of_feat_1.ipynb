{
  "nbformat": 4,
  "nbformat_minor": 0,
  "metadata": {
    "colab": {
      "name": "Copy of feat_1",
      "version": "0.3.2",
      "provenance": [],
      "include_colab_link": true
    },
    "kernelspec": {
      "name": "python3",
      "display_name": "Python 3"
    },
    "accelerator": "GPU"
  },
  "cells": [
    {
      "cell_type": "markdown",
      "metadata": {
        "id": "view-in-github",
        "colab_type": "text"
      },
      "source": [
        "<a href=\"https://colab.research.google.com/github/shghatge/pointnet/blob/master/Copy_of_feat_1.ipynb\" target=\"_parent\"><img src=\"https://colab.research.google.com/assets/colab-badge.svg\" alt=\"Open In Colab\"/></a>"
      ]
    },
    {
      "metadata": {
        "id": "QR9nj5C4_Tyz",
        "colab_type": "code",
        "outputId": "1af3cc06-f4f6-4058-ad5d-6f32a3c6e059",
        "colab": {
          "base_uri": "https://localhost:8080/",
          "height": 175
        }
      },
      "cell_type": "code",
      "source": [
        "import pandas as pd\n",
        "import numpy as np\n",
        "from collections import Counter\n",
        "import re\n",
        "import nltk \n",
        "from nltk import word_tokenize\n",
        "from nltk.util import ngrams\n",
        "import pickle\n",
        "nltk.download('punkt')\n",
        "nltk.download('averaged_perceptron_tagger')\n",
        "nltk.download('stopwords')\n",
        "from nltk.corpus import stopwords\n",
        "from sklearn.ensemble import RandomForestClassifier\n",
        "from sklearn.metrics import classification_report\n",
        "from sklearn import preprocessing\n",
        "from sklearn.multiclass import OneVsRestClassifier\n",
        "from nltk.stem.porter import PorterStemmer\n",
        "from keras.preprocessing.sequence import pad_sequences\n",
        "from sklearn.feature_extraction.text import CountVectorizer"
      ],
      "execution_count": 1,
      "outputs": [
        {
          "output_type": "stream",
          "text": [
            "[nltk_data] Downloading package punkt to /root/nltk_data...\n",
            "[nltk_data]   Package punkt is already up-to-date!\n",
            "[nltk_data] Downloading package averaged_perceptron_tagger to\n",
            "[nltk_data]     /root/nltk_data...\n",
            "[nltk_data]   Package averaged_perceptron_tagger is already up-to-\n",
            "[nltk_data]       date!\n",
            "[nltk_data] Downloading package stopwords to /root/nltk_data...\n",
            "[nltk_data]   Package stopwords is already up-to-date!\n"
          ],
          "name": "stdout"
        },
        {
          "output_type": "stream",
          "text": [
            "Using TensorFlow backend.\n"
          ],
          "name": "stderr"
        }
      ]
    },
    {
      "metadata": {
        "id": "mCpSoAAT_Z_6",
        "colab_type": "code",
        "colab": {}
      },
      "cell_type": "code",
      "source": [
        "def dump_to_file(obj, file):\n",
        "    f = open(file,\"wb\")\n",
        "    pickle.dump(obj,f)\n",
        "    f.close()\n",
        "def get_obj(file):\n",
        "    with open(file, 'rb') as handle:\n",
        "        obj = pickle.load(handle)\n",
        "    return obj\n",
        "def tokenize(text):\n",
        "    tokens = nltk.word_tokenize(text)\n",
        "    stems = []\n",
        "    for item in tokens:\n",
        "        stems.append(PorterStemmer().stem(item))\n",
        "    return stems\n",
        "  "
      ],
      "execution_count": 0,
      "outputs": []
    },
    {
      "metadata": {
        "id": "ItPpyDN_BXJr",
        "colab_type": "code",
        "outputId": "29738554-fd11-4cec-87bd-2c2382f97e8e",
        "colab": {
          "base_uri": "https://localhost:8080/",
          "height": 34
        }
      },
      "cell_type": "code",
      "source": [
        "trainFile = pd.read_csv('TopTenTrain2.csv', low_memory=False)\n",
        "testFile = pd.read_csv('TopTenTest2.csv', low_memory=False)\n",
        "print('Data Read')"
      ],
      "execution_count": 3,
      "outputs": [
        {
          "output_type": "stream",
          "text": [
            "Data Read\n"
          ],
          "name": "stdout"
        }
      ]
    },
    {
      "metadata": {
        "id": "Jw6y20piBmwB",
        "colab_type": "code",
        "outputId": "825a60be-f139-4415-c7d8-087c8f609f57",
        "colab": {
          "base_uri": "https://localhost:8080/",
          "height": 70
        }
      },
      "cell_type": "code",
      "source": [
        "print(trainFile[\"cleanText\"][108])\n",
        "print(trainFile[\"text\"][108])\n",
        "print(trainFile[\"fillers\"][108])"
      ],
      "execution_count": 4,
      "outputs": [
        {
          "output_type": "stream",
          "text": [
            "Our state doesnt yet, say that \n",
            "Our state doesn't yet, <laughter> say that  /\n",
            "None\n"
          ],
          "name": "stdout"
        }
      ]
    },
    {
      "metadata": {
        "id": "HQKOkrW2Boqp",
        "colab_type": "code",
        "outputId": "e50e11cb-50c0-4d18-da37-4bf03f19f70e",
        "colab": {
          "base_uri": "https://localhost:8080/",
          "height": 361
        }
      },
      "cell_type": "code",
      "source": [
        "train_corpus_file = 'train_corpus.pkl'\n",
        "test_corpus_file = 'test_corpus.pkl'\n",
        "train_corpus = get_obj(train_corpus_file)\n",
        "test_corpus = get_obj(test_corpus_file)\n",
        "print(train_corpus[:10])"
      ],
      "execution_count": 5,
      "outputs": [
        {
          "output_type": "error",
          "ename": "FileNotFoundError",
          "evalue": "ignored",
          "traceback": [
            "\u001b[0;31m---------------------------------------------------------------------------\u001b[0m",
            "\u001b[0;31mFileNotFoundError\u001b[0m                         Traceback (most recent call last)",
            "\u001b[0;32m<ipython-input-5-fa689faa2f48>\u001b[0m in \u001b[0;36m<module>\u001b[0;34m()\u001b[0m\n\u001b[1;32m      1\u001b[0m \u001b[0mtrain_corpus_file\u001b[0m \u001b[0;34m=\u001b[0m \u001b[0;34m'train_corpus.pkl'\u001b[0m\u001b[0;34m\u001b[0m\u001b[0;34m\u001b[0m\u001b[0m\n\u001b[1;32m      2\u001b[0m \u001b[0mtest_corpus_file\u001b[0m \u001b[0;34m=\u001b[0m \u001b[0;34m'test_corpus.pkl'\u001b[0m\u001b[0;34m\u001b[0m\u001b[0;34m\u001b[0m\u001b[0m\n\u001b[0;32m----> 3\u001b[0;31m \u001b[0mtrain_corpus\u001b[0m \u001b[0;34m=\u001b[0m \u001b[0mget_obj\u001b[0m\u001b[0;34m(\u001b[0m\u001b[0mtrain_corpus_file\u001b[0m\u001b[0;34m)\u001b[0m\u001b[0;34m\u001b[0m\u001b[0;34m\u001b[0m\u001b[0m\n\u001b[0m\u001b[1;32m      4\u001b[0m \u001b[0mtest_corpus\u001b[0m \u001b[0;34m=\u001b[0m \u001b[0mget_obj\u001b[0m\u001b[0;34m(\u001b[0m\u001b[0mtest_corpus_file\u001b[0m\u001b[0;34m)\u001b[0m\u001b[0;34m\u001b[0m\u001b[0;34m\u001b[0m\u001b[0m\n\u001b[1;32m      5\u001b[0m \u001b[0mprint\u001b[0m\u001b[0;34m(\u001b[0m\u001b[0mtrain_corpus\u001b[0m\u001b[0;34m[\u001b[0m\u001b[0;34m:\u001b[0m\u001b[0;36m10\u001b[0m\u001b[0;34m]\u001b[0m\u001b[0;34m)\u001b[0m\u001b[0;34m\u001b[0m\u001b[0;34m\u001b[0m\u001b[0m\n",
            "\u001b[0;32m<ipython-input-2-16cbba719d0c>\u001b[0m in \u001b[0;36mget_obj\u001b[0;34m(file)\u001b[0m\n\u001b[1;32m      4\u001b[0m     \u001b[0mf\u001b[0m\u001b[0;34m.\u001b[0m\u001b[0mclose\u001b[0m\u001b[0;34m(\u001b[0m\u001b[0;34m)\u001b[0m\u001b[0;34m\u001b[0m\u001b[0;34m\u001b[0m\u001b[0m\n\u001b[1;32m      5\u001b[0m \u001b[0;32mdef\u001b[0m \u001b[0mget_obj\u001b[0m\u001b[0;34m(\u001b[0m\u001b[0mfile\u001b[0m\u001b[0;34m)\u001b[0m\u001b[0;34m:\u001b[0m\u001b[0;34m\u001b[0m\u001b[0;34m\u001b[0m\u001b[0m\n\u001b[0;32m----> 6\u001b[0;31m     \u001b[0;32mwith\u001b[0m \u001b[0mopen\u001b[0m\u001b[0;34m(\u001b[0m\u001b[0mfile\u001b[0m\u001b[0;34m,\u001b[0m \u001b[0;34m'rb'\u001b[0m\u001b[0;34m)\u001b[0m \u001b[0;32mas\u001b[0m \u001b[0mhandle\u001b[0m\u001b[0;34m:\u001b[0m\u001b[0;34m\u001b[0m\u001b[0;34m\u001b[0m\u001b[0m\n\u001b[0m\u001b[1;32m      7\u001b[0m         \u001b[0mobj\u001b[0m \u001b[0;34m=\u001b[0m \u001b[0mpickle\u001b[0m\u001b[0;34m.\u001b[0m\u001b[0mload\u001b[0m\u001b[0;34m(\u001b[0m\u001b[0mhandle\u001b[0m\u001b[0;34m)\u001b[0m\u001b[0;34m\u001b[0m\u001b[0;34m\u001b[0m\u001b[0m\n\u001b[1;32m      8\u001b[0m     \u001b[0;32mreturn\u001b[0m \u001b[0mobj\u001b[0m\u001b[0;34m\u001b[0m\u001b[0;34m\u001b[0m\u001b[0m\n",
            "\u001b[0;31mFileNotFoundError\u001b[0m: [Errno 2] No such file or directory: 'train_corpus.pkl'"
          ]
        }
      ]
    },
    {
      "metadata": {
        "id": "2ko9u-x9CD4Z",
        "colab_type": "code",
        "colab": {}
      },
      "cell_type": "code",
      "source": [
        "pos_dict = dict()\n",
        "labels_dict = dict()\n",
        "#nltk.download('averaged_perceptron_tagger')\n",
        "for index , row in trainFile.iterrows():\n",
        "    tokens = nltk.word_tokenize(row['cleanText'])\n",
        "    tagged = nltk.pos_tag(tokens)\n",
        "    l=[]\n",
        "    for tag in tagged:\n",
        "      l.append(tag[0])\n",
        "      l.append(tag[1])\n",
        "    pos_dict[index] = \" \".join(l)\n",
        "    labels_dict[index] = row['act_tag']"
      ],
      "execution_count": 0,
      "outputs": []
    },
    {
      "metadata": {
        "id": "iSPBINr0eIsZ",
        "colab_type": "code",
        "colab": {}
      },
      "cell_type": "code",
      "source": [
        "pos_dict_test = dict()\n",
        "labels_dict_test = dict()\n",
        "#nltk.download('averaged_perceptron_tagger')\n",
        "for index , row in testFile.iterrows():\n",
        "    tokens = nltk.word_tokenize(row['cleanText'])\n",
        "    tagged = nltk.pos_tag(tokens)\n",
        "    l=[]\n",
        "    for tag in tagged:\n",
        "      l.append(tag[0])\n",
        "      l.append(tag[1])\n",
        "    pos_dict_test[index] = \" \".join(l)\n",
        "    labels_dict_test[index] = row['act_tag']"
      ],
      "execution_count": 0,
      "outputs": []
    },
    {
      "metadata": {
        "id": "Qc5HoReJMk2n",
        "colab_type": "code",
        "colab": {}
      },
      "cell_type": "code",
      "source": [
        "corpus=list(pos_dict.values())"
      ],
      "execution_count": 0,
      "outputs": []
    },
    {
      "metadata": {
        "id": "ClstAqgwO0Tw",
        "colab_type": "code",
        "outputId": "68c7e298-e319-4d20-9a43-897278ab1cf7",
        "colab": {
          "base_uri": "https://localhost:8080/",
          "height": 72
        }
      },
      "cell_type": "code",
      "source": [
        "vectorizer = CountVectorizer(tokenizer = tokenize, min_df=30, max_df=1000000)\n",
        "vectorizer.fit(corpus)\n",
        "vocab = list(vectorizer.vocabulary_.keys())\n",
        "print(len(vectorizer.stop_words_))\n",
        "print(vocab)"
      ],
      "execution_count": 9,
      "outputs": [
        {
          "output_type": "stream",
          "text": [
            "9568\n",
            "['doe', 'vbz', 'it', 'prp', 'say', 'vb', 'someth', 'nn', '?', '.', 'i', 'think', 'vbp', 'usual', 'rb', 'okay', 'well', ',', 'seem', 'vbd', 'like', 'in', 'did', 'but', 'cc', 'might', 'md', 'not', 'guess', 'uh', 'my', '$', 'sister', 'ha', 'a', 'dt', 'she', 'just', 'had', 'babi', 'he', 'about', 'five', 'cd', 'month', 'old', 'jj', 'and', 'wa', 'worri', 'vbg', 'go', 'back', 'to', 'work', 'what', 'wp', 'do', 'with', 'him', 'nnp', 'huh', 'you', 'have', 'kid', 'yeah', 'ye', 'dont', 'though', 'use', 'when', 'wrb', 'two', 'children', 'off', 'on', 'find', 'friend', 'anybodi', 'who', 'that', 'situat', 'day', 'care', 'your', 'live', 'big', 'commun', 'fairli', 'larg', 'got', 'real', 'lucki', 'boss', 'move', 'into', 'larger', 'jjr', 'offic', 'abl', 'take', 'her', 'small', 'legal', 'firm', 'one', 'lawyer', 'um', 'so', 'the', 'onli', 'realli', 'of', 'there', 'no', 'els', 'ex', 'they', 'an', 'extra', 'room', 'everyth', 'for', 'out', 'rp', 'pretti', 'good', 'wow', 'how', 'know', 'lot', 'peopl', 'around', 'here', 'sometim', 'mother', 'or', 'grandmoth', 'im', 'is', 'are', 'their', 'home', 'either', 'them', 'somebodi', 'get', 'd', 'feel', 'comfort', 'leav', 'center', 'simpli', 'becaus', 'mani', 'theyr', 'enough', 'attent', 'expens', 'cours', 'differ', 'type', 'avail', 'too', 'where', 'teach', 'thing', 'watch', 'let', 'play', 'long', 'time', 'right', 'place', 'alway', 'even', 'if', 'be', 'anyth', 'could', 'happen', 'cant', 'keep', 'control', 'start', 'would', 'hard', 'kind', 'stress', 'nice', 'problem', 'will', 'ive', 'consid', 'vbn', 'neat', 'all', 'pdt', 'school', 'interest', 'ani', 'special', 'train', 'depend', 'state', 'actual', 'some', 'law', 'absolut', 'teacher', 'order', 'our', 'doesnt', 'yet', 'went', 'colleg', 'elementari', 'grade', 'level', 'now', 'oldest', 'then', 'youngest', 'never', 'been', 'anyway', 'we', 'youv', 'compani', 'test', 'drug', 'sinc', 'theyv', 'polici', 'own', 'convict', 'goe', 'section', 'gener', 'manag', 'engin', 'wast', 'site', 'oper', 'wdt', 'at', 'higher', 'screen', 'part', 'turn', 'up', 'other', 'littl', 'more', 'danger', 'equip', 'exercis', 'quick', 'field', 'oil', 'servic', 'heavi', 'put', 'down', 'stuff', 'veri', 'concern', 'hous', 'everybodi', 'were', 'subject', 'thi', 'same', 'th', 'through', 'than', 'case', 'hire', 'theyll', 'job', 'trip', 'fall', 'give', 'away', 'random', 'upset', 'first', 'particularli', 'parti', 'serv', 'alcohol', 'tha', 'didnt', 'issu', 'regular', 'fact', 'these', 'mean', 'brother', 'call', 'come', 'me', 'y', 'twice', 'by', 'k', 'limit', 'should', 'necessarili', 'immedi', 'after', 'accid', 'stori', 'woman', 'last', 'year', 'ice', 'whole', 'mix', 'hand', 'make', 'as', 'continu', 'employ', 'sens', 'natur', 'experi', 'incred', 'amount', 'befor', 'took', 'doctor', 'physic', 'said', 'told', 'basic', 'id', 'alreadi', 'morn', 'wasnt', 'full', 'oh', 'cloth', 'question', 'tri', 'togeth', 'term', 'financi', 'plan', 'budget', 'onc', 'myself', 'decid', 'inform', 'date', 'gave', 'idea', 'least', 'found', 'way', 'check', 'book', 'balanc', 'wife', 'write', 'few', 'bother', 'total', 'help', 'similar', 'much', 'possibl', 'occasion', 'behind', 'rememb', 'havent', 'until', 'recent', 'weve', 'daughter', 'eighteen', 'anoth', 'four', 'thousand', 'can', 'ten', 'point', 'incom', 'deduct', 'money', 'summer', 'fund', 'sound', 'famili', 'probabl', 'save', 'see', 'bit', 'opposit', 'caus', 'almost', 'rang', 'sick', 'wonder', 'collect', 'western', 'mine', 'over', 'comput', 'forward', 'project', 'need', 'topic', 'talk', 'without', 'dollar', 'figur', 'advanc', 'degre', 'factor', 'everi', 'hundr', 'percent', 'class', 'from', 'europ', 'coupl', 'juri', 'system', 'three', 'judg', 'attorney', 'present', 'hi', 'evid', 'defens', 'those', 'guy', 'whether', 'guilti', 'such', 'somehow', 'man', 'sign', 'murder', 'trial', 'twenti', 'ever', 'child', 'done', 'bought', 'noth', 'look', 'polic', 'better', 'rbr', 'sure', 'sit', 'isnt', 'wouldnt', 'jump', 'true', 'may', 'hold', 'favorit', 'depart', 'crimin', 'schedul', 'social', 'secur', 'number', 'us', 'telephon', 'none', 'difficult', 'catch', 'gain', 'wherea', 'effort', 'toward', 'begin', 'h', 'atlanta', 'area', 'crime', 'rate', 'street', 'ticket', 'separ', 'drop', 'set', 'fee', 'v', 'c', 'r', 'televis', 'repair', 'tremend', 'wrong', 'eat', 'ill', 'mayb', 'minut', 'fix', 'still', 'charg', 'civil', 'x', 'most', 'notic', 'afford', 'pay', 'half', 'amaz', 'stop', 'correct', 'person', 'run', 'expect', 'nurs', 'troubl', 'made', 'wors', 'couldnt', 'deal', 'return', 'want', 'independ', 'meal', 'retir', 'sort', 'also', 'associ', 'apart', 'someplac', 'becam', 'less', 'herself', 'provid', 'anymor', 'die', 'quickli', 'hope', 'reason', 'averag', 'six', 'health', 'yourself', 'someon', 'stay', 'send', 'rest', 'rel', 'peac', 'mind', 'event', 'enjoy', 'while', 'choic', 'wait', 'list', 'stage', 'life', 'left', 'exactli', 'fair', 'younger', 'member', 'rais', 'choos', 'base', 'price', 'extend', 'qualiti', 'gone', 'purpos', 'worth', 'alon', 'itd', 'known', 'quit', 'alifornia', 'individu', 'basi', 'altern', 'benefit', 'short', 'especi', 'thought', 'period', 'often', 'hospit', 'respons', 'both', 'side', 'parent', 'best', 'abil', 'option', 'insur', 'cover', 'ahead', 'unfortun', 'elderli', 'unit', 'lock', 'attach', 'volunt', 'eighti', 'eventu', 'countri', 'wash', 'dish', 'cook', 'becom', 'activ', 'love', 'great', 'travel', 'mountain', 'beauti', 'older', 'definit', 'contribut', 'wish', 'o', 'add', 'eight', 'whatev', 'bad', 'god', 'thirti', 'buck', 'f', 'certain', 'spend', 'otherwis', 'lose', 'tax', 'payment', 'third', 'which', 'everyon', 'high', 'fifteen', 'healthi', 'youd', 'cost', 'end', 'car', 's', 'medic', 'week', 'supposedli', 'longer', 'hear', 'lo', 'lay', 'salari', 'trade', 'size', 'rid', 'duti', 'origin', 'primarili', 'young', 'tend', 'view', 'whi', 'pick', 'ago', 'saw', 'unanim', 'decis', 'smoke', 'gun', 'major', 'rule', 'accept', 'ought', 'vote', 'must', 'beyond', 'doubt', 'instrument', 'line', 'seriou', 'easi', 'stand', 'sentenc', 'death', 'fortun', 'penalti', 'discov', 'blue', 'gotten', 'process', 'object', 'certainli', 'ask', 'challeng', 'each', 'court', 'awar', 'recommend', 'impress', 'himself', 'final', 'recycl', 'familiar', 'far', 'program', 'groceri', 'store', 'plano', 'citi', 'green', 'trash', 'truck', 'glass', 'paper', 't', 'brought', 'bottl', 'cent', 'oklahoma', 'iowa', 'per', 'aluminum', 'purchas', 'n', 'dump', 'plastic', 'milk', 'involv', 'son', 'name', 'church', 'bye', 'heard', 'dealer', 'although', 'tonight', 'equal', 'ooh', 'unless', 'wh', 'buy', 'card', 'design', 'human', 'driver', 'ride', 'ca', 'yo', 'sixti', 'normal', 'everyday', 'fifti', 'nineteen', 'seventi', 'chang', 'safeti', 'wed', 'new', 'nineti', 'cheaper', 'busi', 'insid', 'drive', 'perform', 'realiz', 'air', 'bag', 'excus', 'next', 'safe', 'import', 'report', 'depress', 'u', 'appar', 'close', 'door', 'variou', 'bin', 'local', 'respect', 'oppos', 'front', 'carri', 'regard', 'motiv', 'bill', 'pass', 'believ', 'arent', 'against', 'creat', 'sell', 'awhil', 'matter', 'success', 'highway', 'drink', 'instead', 'throw', 'window', 'forth', 'materi', 'requir', 'lower', 'w', 'push', 'china', 'wear', 'rather', 'phone', 'articl', 'break', 'feet', 'pull', 'past', 'contain', 'page', 'cut', 'dinner', 'tabl', 'today', 'agre', 'societi', 'word', 'econom', 'between', 'along', 'group', 'across', 'middl', 'met', 'standard', 'answer', 'machin', 'stick', 'tie', 'water', 'capit', 'except', 'california', 'shouldnt', 'dog', 'wild', 'fit', 'appeal', 'row', 'particular', 'sever', 'execut', 'mistak', 'theyd', 'twelv', 'hour', 'forti', 'free', 'nine', 'practic', 'cousin', 'b', 'follow', 'select', 'sat', 'dad', 'shape', 'mental', 'boston', 'visit', 'minnesota', 'tell', 'mile', 'environ', 'again', 'e', 'essenti', 'themselv', 'skill', 'walk', 'l', 'learn', 'burn', 'husband', 'complet', 'pictur', 'belong', 'bed', 'nicer', 'read', 'lost', 'vacat', 'ground', 'grown', 'grandchildren', 'girl', 'bring', 'utah', 'privat', 'sitter', 'readi', 'seven', 'cute', 'aw', 'shell', 'p', 'somewher', 'ran', 'govern', 'later', 'suppos', 'knew', 'eleven', 'oclock', 'shed', 'kindergarten', 'hell', 'sleep', 'sent', 'soon', 'kept', 'block', 'allow', 'women', 'team', 'fan', 'john', 'iron', 'blow', 'saint', 'boy', 'fun', 'game', 'sunday', 'night', 'funni', 'quarter', 'piec', 'came', 'roof', 'land', 'fire', 'yard', 'tough', 'top', 'washington', 'beat', 'houston', 'hate', 'hill', 'dalla', 'won', 'alla', 'grew', 'imagin', 'paid', 'baltimor', 'footbal', 'shot', 'bigger', 'sold', 'bowl', 'stadium', 'advantag', 'bank', 'werent', 'reach', 'traffic', 'seat', 'belt', 'hardli', 'student', 'age', 'organ', 'assum', 'role', 'pro', 'fw', 'product', 'technic', 'educ', 'under', 'discuss', 'properti', 'doubl', 'wide', 'taken', 'rain', 'news', 'newspap', 'wall', 'york', 'coverag', 'howev', 'journal', 'am', 'knowledg', 'exampl', 'access', 'magazin', 'disappoint', 'wont', 'liber', 'whenev', 'print', 'show', 'dure', 'war', 'radio', 'moment', 'se', 'within', 'rough', 'visa', 'clear', 'credit', 'wise', 'happi', 'debt', 'scare', 'economi', 'easier', 'support', 'switch', 'easili', 'career', 'bibl', 'build', 'languag', 'step', 'scout', 'marri', 'singl', 'foot', 'speak', 'anywher', 'hang', 'french', 'direct', 'terribl', 'style', 'english', 'yep', 'forc', 'saturday', 'monday', 'market', 'prison', 'face', 'offer', 'specif', 'typic', 'nobodi', 'research', 'scienc', 'instanc', 'power', 'replac', 'music', 'classic', 'rock', 'roll', 'danc', 'listen', 'metal', 'm', 'surpris', 'born', 'father', 'west', 'virginia', 'late', 'mom', 'record', 'piano', 'earli', 'van', 'sing', 'song', 'cabl', 'station', 'video', 'head', 'jeez', 'held', 'hasnt', 'san', 'low', 'violent', 'town', 'condit', 'protect', 'nowaday', 'damag', 'ohio', 'florida', 'militari', 'entir', 'scari', 'solut', 'kill', 'result', 'neighbor', 'grow', 'extent', 'understand', 'concept', 'eye', 'glad', 'punish', 'deterr', 'commit', 'effect', 'favor', 'act', 'stuck', 'jail', 'caught', 'chanc', 'folk', 'north', 'carolina', 'south', 'track', 'spread', 'valu', 'invest', 'split', 'bunch', 'share', 'aid', 'dear', 'meet', 'shop', 'american', 'lord', 'shoe', 'threat', 'intern', 'biggest', 'food', 'strong', 'world', 'bush', 'administr', 'handl', 'posit', 'soviet', 'polit', 'compet', 'suit', 'increas', 'convinc', 'union', 'produc', 'common', 'wind', 'miss', 'compar', 'art', 'item', 'conveni', 'appreci', 'paint', 'current', 'gosh', 'seen', 'round', 'sad', 'colorado', 'frighten', 'univers', 'plant', 'cash', 'chemic', 'outsid', 'industri', 'studi', 'energi', 'weight', 'space', 'electr', 'pound', 'clean', 'bet', 'plu', 'mostli', 'second', 'texa', 'affect', 'mainli', 'georgia', 'relat', 'black', 'forev', 'earn', 'action', 'forget', 'king', 'counti', 'public', 'obvious', 'horribl', 'everywher', 'white', 'owner', 'pop', 're', 'open', 'abus', 'maryland', 'facil', 'aunt', 'uncl', 'necessari', 'complain', 'hed', 'packag', 'huge', 'nd', 'contact', 'pain', 'sweet', 'east', 'politician', 'presid', 'histori', 'america', 'district', 'feder', 'poor', 'solv', 'popular', 'bottom', 'hristma', 'season', 'foreign', 'extrem', 'strang', 'finish', 'semest', 'anyon', 'bedroom', 'particip', 'nation', 'sourc', 'channel', 'aspect', 'backyard', 'receiv', 'emot', 'opinion', 'background', 'straight', 'form', 'pennsylvania', 'mail', 'sale', 'corpor', 'sorri', 'competit', 'appli', 'account', 'board', 'opportun', 'establish', 'ju', 'ga', 'asid', 'rare', 'christma', 'youll', 'lunch', 'winter', 'pollut', 'g', 'popul', 'lake', 'further', 'hit', 'worst', 'mandatori', 'serious', 'light', 'bu', 'earlier', 'employe', 'besid', 'treat', 'storm', 'hot', 'antonio', 'spring', 'afternoon', 'weather', 'warm', 'cool', 'spent', 'snow', 'dri', 'humid', 'arm', 'southern', 'mess', 'convers', 'hurt', 'shoot', 'dead', 'commerci', 'institut', 'perhap', 'somewhat', 'gee', 'consider', 'fine', 'smaller', 'box', 'minor', 'pressur', 'movi', 'men', 'corner', 'main', 'fill', 'bore', 'excit', 'mention', 'influenc', 'england', 'sport', 'fight', 'tast', 'opera', 'harder', 'laugh', 'band', 'tire', 'develop', 'attitud', 'neighborhood', 'near', 'given', 'taught', 'bodi', 'felt', 'blame', 'park', 'heart', 'mini', 'loan', 'gallon', 'handi', 'wheel', 'pleas', 'upon', 'count', 'rape', 'plenti', 'admit', 'perfect', 'itself', 'teenag', 'crazi', 'electron', 'graduat', 'ad', 'address', 'improv', 'profession', 'privaci', 'invad', 'invas', 'motor', 'vehicl', 'hey', 'million', 'downtown', 'dig', 'settl', 'floor', 'bath', 'farm', 'automat', '!', 'smart', 'aerob', 'liter', 'knee', 'tenni', 'join', 'club', 'lift', 'basebal', 'weird', 'thirteen', 'lawn', 'afraid', 'bike', 'junior', 'coach', 'color', 'weekend', 'ball', 'luck', 'garbag', 'flat', 'pet', 'cat', 'anim', 'tomato', 'relax', 'di', 'shrimp', 'varieti', 'veget', 'chees', 'barbecu', 'bake', 'potato', 'restaur', 'chicken', 'frustrat', 'spot', 'itll', 'sixteen', 'licens', 'border', 'elect', 'hadnt', 'combin', 'pool', 'simpl', 'tape', 'deserv', 'master', 'percentag', 'win', 'rich', 'senior', 'j', 'brake', 'drove', 'brown', 'hobbi', 'spare', 'craft', 'cross', 'stitch', 'neither', 'closer', 'lead', 'pattern', 'cruis', 'sun', 'island', 'truth', 'northern', 'fourth', 'charact', 'golf', 'distanc', 'lesson', 'fast', 'hole', 'hook', 'fourteen', 'central', 'garag', 'encourag', 'fli', 'trust', 'freedom', 'rent', 'self', 'wrote', 'road', 'adult', 'touch', 'written', 'thank', 'yesterday', 'feed', 'prefer', 'divorc', 'disciplin', 'super', 'ridicul', 'fiction', 'fantast', 'prepar', 'express', 'israel', 'unusu', 'advertis', 'fascin', 'austin', 'futur', 'cold', 'letter', 'bathroom', 'garden', 'built', 'closet', 'grass', 'squar', 'flower', 'bug', 'sew', 'speech', 'richardson', 'wood', 'tree', 'stupid', 'coast', 'star', 'draw', 'fish', 'suspect', 'twin', 'professor', 'constantli', 'ladi', 'excel', 'seri', 'attract', 'slow', 'boat', 'edg', 'hair', 'orient', 'author', 'kitchen', 'red', 'octob', 'novel', 'brick', 'inch', 'sudden', 'mexican', 'pitch', 'shirt', 'mexico', 'metric', 'camp', 'includ', 'salad', 'recip', 'draft', 'basketbal', 'player', 'automobil', 'crowd', 'ski', 'swim', 'vietnam', 'cheap', 'river', 'dark', 'convert', 'fri', 'dress', 'jean', 'skirt', 'code', 'heat', 'beach', 'wet', 'entertain', 'cowboy', 'quiet', 'hunt', 'deep', 'mow', 'desk', 'honda', 'corp', 'cultur', 'immigr', 'ourselv', 'brand', 'ranger', 'abov', 'printer', 'garland', 'leagu', 'oak', 'breed', 'democrat', 'reunion', 'weapon', 'tent']\n"
          ],
          "name": "stdout"
        }
      ]
    },
    {
      "metadata": {
        "id": "2JdDCSF1ME6m",
        "colab_type": "code",
        "outputId": "a7e2944c-62bc-4764-b1c0-1ac2a8696b47",
        "colab": {
          "base_uri": "https://localhost:8080/",
          "height": 34
        }
      },
      "cell_type": "code",
      "source": [
        "le = preprocessing.LabelEncoder()\n",
        "le.fit(vocab)"
      ],
      "execution_count": 10,
      "outputs": [
        {
          "output_type": "execute_result",
          "data": {
            "text/plain": [
              "LabelEncoder()"
            ]
          },
          "metadata": {
            "tags": []
          },
          "execution_count": 10
        }
      ]
    },
    {
      "metadata": {
        "id": "NPtx3_WLeygl",
        "colab_type": "code",
        "colab": {}
      },
      "cell_type": "code",
      "source": [
        "import bisect\n",
        "test_rows = dict()\n",
        "i=0\n",
        "le_classes = le.classes_.tolist()\n",
        "bisect.insort_left(le_classes, 'otherClass')\n",
        "le.classes_ = le_classes\n",
        "for index, row in testFile.iterrows():\n",
        "  test = ['otherClass' if s not in le.classes_ else s for s in tokenize(pos_dict_test[index].lower())]\n",
        "  test_rows[index] = le.transform(test)\n",
        "X_test = pad_sequences(list(test_rows.values()), maxlen=100)"
      ],
      "execution_count": 0,
      "outputs": []
    },
    {
      "metadata": {
        "id": "B-Xv_uPxPEWb",
        "colab_type": "code",
        "colab": {}
      },
      "cell_type": "code",
      "source": [
        "features_rows = dict()\n",
        "for index , row in trainFile.iterrows():\n",
        "  test = ['otherClass' if s not in le.classes_ else s for s in tokenize(pos_dict[index].lower())]\n",
        "  features_rows[index] = le.transform(test)"
      ],
      "execution_count": 0,
      "outputs": []
    },
    {
      "metadata": {
        "id": "stbRjsF8PYTk",
        "colab_type": "code",
        "colab": {}
      },
      "cell_type": "code",
      "source": [
        "features = list(features_rows.values())\n",
        "padded = pad_sequences(features, maxlen=100)"
      ],
      "execution_count": 0,
      "outputs": []
    },
    {
      "metadata": {
        "id": "VpUwmN41dEey",
        "colab_type": "code",
        "outputId": "f756b273-02d2-42b1-aa07-eadb1fda6059",
        "colab": {
          "base_uri": "https://localhost:8080/",
          "height": 34
        }
      },
      "cell_type": "code",
      "source": [
        "enc = preprocessing.LabelEncoder()\n",
        "enc.fit(np.array([*labels_dict.values()]))"
      ],
      "execution_count": 16,
      "outputs": [
        {
          "output_type": "execute_result",
          "data": {
            "text/plain": [
              "LabelEncoder()"
            ]
          },
          "metadata": {
            "tags": []
          },
          "execution_count": 16
        }
      ]
    },
    {
      "metadata": {
        "id": "JBsvW_nPdt-C",
        "colab_type": "code",
        "colab": {}
      },
      "cell_type": "code",
      "source": [
        "y = enc.transform(np.array([*labels_dict.values()]))\n",
        "y_test = enc.transform(np.array([*labels_dict_test.values()]))"
      ],
      "execution_count": 0,
      "outputs": []
    },
    {
      "metadata": {
        "id": "TEJz-uZsGA3c",
        "colab_type": "code",
        "colab": {}
      },
      "cell_type": "code",
      "source": [
        "model = OneVsRestClassifier(RandomForestClassifier(n_estimators=100, max_depth=15 )).fit(padded, y)"
      ],
      "execution_count": 0,
      "outputs": []
    },
    {
      "metadata": {
        "id": "FwaugNW_t5DW",
        "colab_type": "code",
        "colab": {}
      },
      "cell_type": "code",
      "source": [
        ""
      ],
      "execution_count": 0,
      "outputs": []
    },
    {
      "metadata": {
        "id": "VxzkIItIL-vI",
        "colab_type": "code",
        "colab": {}
      },
      "cell_type": "code",
      "source": [
        "preds = model.predict(X_test)"
      ],
      "execution_count": 0,
      "outputs": []
    },
    {
      "metadata": {
        "id": "boO74xjiMBgJ",
        "colab_type": "code",
        "outputId": "bc84d277-cc95-4bfe-c072-5e75267061ca",
        "colab": {
          "base_uri": "https://localhost:8080/",
          "height": 316
        }
      },
      "cell_type": "code",
      "source": [
        "target_names = enc.classes_\n",
        "print(classification_report(y_test, preds, target_names=target_names))"
      ],
      "execution_count": 20,
      "outputs": [
        {
          "output_type": "stream",
          "text": [
            "              precision    recall  f1-score   support\n",
            "\n",
            "           %       0.69      0.72      0.70      2440\n",
            "          aa       0.39      0.40      0.40       859\n",
            "           b       0.85      0.94      0.89      6157\n",
            "          ba       0.81      0.47      0.60       756\n",
            "          fc       0.98      0.49      0.65       391\n",
            "          ny       0.47      0.06      0.11       413\n",
            "          qy       0.95      0.70      0.80       516\n",
            "          sd       0.68      0.95      0.79     10287\n",
            "          sv       0.52      0.02      0.04      4152\n",
            "           x       0.99      1.00      1.00       569\n",
            "\n",
            "   micro avg       0.73      0.73      0.73     26540\n",
            "   macro avg       0.73      0.58      0.60     26540\n",
            "weighted avg       0.70      0.73      0.66     26540\n",
            "\n"
          ],
          "name": "stdout"
        }
      ]
    },
    {
      "metadata": {
        "id": "GoNKltssn16r",
        "colab_type": "code",
        "colab": {
          "base_uri": "https://localhost:8080/",
          "height": 1140
        },
        "outputId": "f332e0ef-9002-4cdb-b4f4-debb8d859fe2"
      },
      "cell_type": "code",
      "source": [
        "import matplotlib.pyplot as plt\n",
        "from sklearn.metrics import confusion_matrix\n",
        "from sklearn.utils.multiclass import unique_labels\n",
        "def plot_confusion_matrix(y_true, y_pred, classes,\n",
        "                          normalize=False,\n",
        "                          title=None,\n",
        "                          cmap=plt.cm.Blues):\n",
        "    \"\"\"\n",
        "    This function prints and plots the confusion matrix.\n",
        "    Normalization can be applied by setting `normalize=True`.\n",
        "    \"\"\"\n",
        "    if not title:\n",
        "        if normalize:\n",
        "            title = 'Normalized confusion matrix'\n",
        "        else:\n",
        "            title = 'Confusion matrix, without normalization'\n",
        "\n",
        "    # Compute confusion matrix\n",
        "    cm = confusion_matrix(y_true, y_pred)\n",
        "    # Only use the labels that appear in the data\n",
        "    classes = classes[unique_labels(y_true, y_pred)]\n",
        "    if normalize:\n",
        "        cm = cm.astype('float') / cm.sum(axis=1)[:, np.newaxis]\n",
        "        print(\"Normalized confusion matrix\")\n",
        "    else:\n",
        "        print('Confusion matrix, without normalization')\n",
        "\n",
        "    print(cm)\n",
        "\n",
        "    fig, ax = plt.subplots()\n",
        "    im = ax.imshow(cm, interpolation='nearest', cmap=cmap)\n",
        "    ax.figure.colorbar(im, ax=ax)\n",
        "    # We want to show all ticks...\n",
        "    ax.set(xticks=np.arange(cm.shape[1]),\n",
        "           yticks=np.arange(cm.shape[0]),\n",
        "           # ... and label them with the respective list entries\n",
        "           xticklabels=classes, yticklabels=classes,\n",
        "           title=title,\n",
        "           ylabel='True label',\n",
        "           xlabel='Predicted label')\n",
        "\n",
        "    # Rotate the tick labels and set their alignment.\n",
        "    plt.setp(ax.get_xticklabels(), rotation=45, ha=\"right\",\n",
        "             rotation_mode=\"anchor\")\n",
        "\n",
        "    # Loop over data dimensions and create text annotations.\n",
        "    fmt = '.2f' if normalize else 'd'\n",
        "    thresh = cm.max() / 2.\n",
        "    for i in range(cm.shape[0]):\n",
        "        for j in range(cm.shape[1]):\n",
        "            ax.text(j, i, format(cm[i, j], fmt),\n",
        "                    ha=\"center\", va=\"center\",\n",
        "                    color=\"white\" if cm[i, j] > thresh else \"black\")\n",
        "    fig.tight_layout()\n",
        "    return ax\n",
        "\n",
        "\n",
        "np.set_printoptions(precision=2)\n",
        "\n",
        "# Plot non-normalized confusion matrix\n",
        "plot_confusion_matrix(y_test, preds, classes=target_names,\n",
        "                      title='Confusion matrix, without normalization')\n",
        "\n",
        "# Plot normalized confusion matrix\n",
        "plot_confusion_matrix(y_test, preds, classes=target_names, normalize=True,\n",
        "                      title='Normalized confusion matrix')\n",
        "plt.show()"
      ],
      "execution_count": 21,
      "outputs": [
        {
          "output_type": "stream",
          "text": [
            "Confusion matrix, without normalization\n",
            "[[1764   18  199    4    0    6    2  441    6    0]\n",
            " [  44  342  392    9    0    2    1   58   11    0]\n",
            " [  98  196 5801   25    1   18    1   14    1    2]\n",
            " [  30  191   27  359    0    3    0  125   21    0]\n",
            " [  19    4   85    2  190    0    1   90    0    0]\n",
            " [  20   34  333    0    0   26    0    0    0    0]\n",
            " [  23    1    1    0    1    0  360  128    2    0]\n",
            " [ 390   41   19   12    1    0   11 9774   39    0]\n",
            " [ 178   42    4   32    0    0    3 3805   87    1]\n",
            " [   0    0    0    0    0    0    0    1    1  567]]\n",
            "Normalized confusion matrix\n",
            "[[7.23e-01 7.38e-03 8.16e-02 1.64e-03 0.00e+00 2.46e-03 8.20e-04 1.81e-01\n",
            "  2.46e-03 0.00e+00]\n",
            " [5.12e-02 3.98e-01 4.56e-01 1.05e-02 0.00e+00 2.33e-03 1.16e-03 6.75e-02\n",
            "  1.28e-02 0.00e+00]\n",
            " [1.59e-02 3.18e-02 9.42e-01 4.06e-03 1.62e-04 2.92e-03 1.62e-04 2.27e-03\n",
            "  1.62e-04 3.25e-04]\n",
            " [3.97e-02 2.53e-01 3.57e-02 4.75e-01 0.00e+00 3.97e-03 0.00e+00 1.65e-01\n",
            "  2.78e-02 0.00e+00]\n",
            " [4.86e-02 1.02e-02 2.17e-01 5.12e-03 4.86e-01 0.00e+00 2.56e-03 2.30e-01\n",
            "  0.00e+00 0.00e+00]\n",
            " [4.84e-02 8.23e-02 8.06e-01 0.00e+00 0.00e+00 6.30e-02 0.00e+00 0.00e+00\n",
            "  0.00e+00 0.00e+00]\n",
            " [4.46e-02 1.94e-03 1.94e-03 0.00e+00 1.94e-03 0.00e+00 6.98e-01 2.48e-01\n",
            "  3.88e-03 0.00e+00]\n",
            " [3.79e-02 3.99e-03 1.85e-03 1.17e-03 9.72e-05 0.00e+00 1.07e-03 9.50e-01\n",
            "  3.79e-03 0.00e+00]\n",
            " [4.29e-02 1.01e-02 9.63e-04 7.71e-03 0.00e+00 0.00e+00 7.23e-04 9.16e-01\n",
            "  2.10e-02 2.41e-04]\n",
            " [0.00e+00 0.00e+00 0.00e+00 0.00e+00 0.00e+00 0.00e+00 0.00e+00 1.76e-03\n",
            "  1.76e-03 9.96e-01]]\n"
          ],
          "name": "stdout"
        },
        {
          "output_type": "display_data",
          "data": {
            "image/png": "[encoded data removed]",
            "text/plain": [
              "<Figure size 432x288 with 2 Axes>"
            ]
          },
          "metadata": {
            "tags": []
          }
        },
        {
          "output_type": "display_data",
          "data": {
            "image/png": "[encoded data removed]",
            "text/plain": [
              "<Figure size 432x288 with 2 Axes>"
            ]
          },
          "metadata": {
            "tags": []
          }
        }
      ]
    },
    {
      "metadata": {
        "id": "WKoiFuIHnvfX",
        "colab_type": "code",
        "colab": {
          "base_uri": "https://localhost:8080/",
          "height": 54
        },
        "outputId": "d5912927-91b3-4062-8a2d-eb38088d3092"
      },
      "cell_type": "code",
      "source": [
        "headers = []\n",
        "for i in range(50,0,-1):\n",
        "  headers.append('enc_pos_'+str(i))\n",
        "  headers.append('enc_word_'+str(i))\n",
        "print(headers)"
      ],
      "execution_count": 33,
      "outputs": [
        {
          "output_type": "stream",
          "text": [
            "['enc_pos_50', 'enc_word_50', 'enc_pos_49', 'enc_word_49', 'enc_pos_48', 'enc_word_48', 'enc_pos_47', 'enc_word_47', 'enc_pos_46', 'enc_word_46', 'enc_pos_45', 'enc_word_45', 'enc_pos_44', 'enc_word_44', 'enc_pos_43', 'enc_word_43', 'enc_pos_42', 'enc_word_42', 'enc_pos_41', 'enc_word_41', 'enc_pos_40', 'enc_word_40', 'enc_pos_39', 'enc_word_39', 'enc_pos_38', 'enc_word_38', 'enc_pos_37', 'enc_word_37', 'enc_pos_36', 'enc_word_36', 'enc_pos_35', 'enc_word_35', 'enc_pos_34', 'enc_word_34', 'enc_pos_33', 'enc_word_33', 'enc_pos_32', 'enc_word_32', 'enc_pos_31', 'enc_word_31', 'enc_pos_30', 'enc_word_30', 'enc_pos_29', 'enc_word_29', 'enc_pos_28', 'enc_word_28', 'enc_pos_27', 'enc_word_27', 'enc_pos_26', 'enc_word_26', 'enc_pos_25', 'enc_word_25', 'enc_pos_24', 'enc_word_24', 'enc_pos_23', 'enc_word_23', 'enc_pos_22', 'enc_word_22', 'enc_pos_21', 'enc_word_21', 'enc_pos_20', 'enc_word_20', 'enc_pos_19', 'enc_word_19', 'enc_pos_18', 'enc_word_18', 'enc_pos_17', 'enc_word_17', 'enc_pos_16', 'enc_word_16', 'enc_pos_15', 'enc_word_15', 'enc_pos_14', 'enc_word_14', 'enc_pos_13', 'enc_word_13', 'enc_pos_12', 'enc_word_12', 'enc_pos_11', 'enc_word_11', 'enc_pos_10', 'enc_word_10', 'enc_pos_9', 'enc_word_9', 'enc_pos_8', 'enc_word_8', 'enc_pos_7', 'enc_word_7', 'enc_pos_6', 'enc_word_6', 'enc_pos_5', 'enc_word_5', 'enc_pos_4', 'enc_word_4', 'enc_pos_3', 'enc_word_3', 'enc_pos_2', 'enc_word_2', 'enc_pos_1', 'enc_word_1']\n"
          ],
          "name": "stdout"
        }
      ]
    },
    {
      "metadata": {
        "id": "DQbLhTwZpKTp",
        "colab_type": "code",
        "colab": {}
      },
      "cell_type": "code",
      "source": [
        "out_x = np.vstack((headers, padded))"
      ],
      "execution_count": 0,
      "outputs": []
    },
    {
      "metadata": {
        "id": "HyqhZK_6pxMj",
        "colab_type": "code",
        "colab": {
          "base_uri": "https://localhost:8080/",
          "height": 34
        },
        "outputId": "8d234a2c-e338-4b81-a9bd-581a800d0a60"
      },
      "cell_type": "code",
      "source": [
        "print(len(out_x))"
      ],
      "execution_count": 35,
      "outputs": [
        {
          "output_type": "stream",
          "text": [
            "147511\n"
          ],
          "name": "stdout"
        }
      ]
    },
    {
      "metadata": {
        "id": "c9X8bo10p2Nv",
        "colab_type": "code",
        "colab": {}
      },
      "cell_type": "code",
      "source": [
        "pdf = pd.DataFrame(data=padded,columns = headers) \n",
        "pdf.to_csv('POS_WORD_FEATURES')"
      ],
      "execution_count": 0,
      "outputs": []
    }
  ]
}